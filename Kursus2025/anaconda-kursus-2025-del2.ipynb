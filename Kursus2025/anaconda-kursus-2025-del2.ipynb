{
 "cells": [
  {
   "cell_type": "markdown",
   "metadata": {},
   "source": [
    "# Anaconda-kursus NFA - Del 2\n",
    "\n",
    "## Program\n",
    "\n",
    "- Arbejde med egen case og data\n",
    "- Sikkerhed og governance\n",
    "- Afslutning og evaluering\n"
   ]
  },
  {
   "cell_type": "markdown",
   "metadata": {},
   "source": [
    "# Egen Case og data\n",
    "\n",
    "## Bordrunde\n",
    "\n",
    "- Hvad skal du arbejde med?\n",
    "- Hvad er målet med dit arbejde?\n",
    "\n",
    "## VibeCoding\n",
    "\n",
    "Hvordan vil du gå til opgaven?"
   ]
  },
  {
   "cell_type": "markdown",
   "metadata": {},
   "source": [
    "# Show and tell\n",
    "\n",
    "- Forklar dit script\n",
    "- Hvad har du fået ud af opgaven?\n",
    "- Hvad er dit næste skridt?"
   ]
  },
  {
   "cell_type": "markdown",
   "metadata": {},
   "source": [
    "# Sikkerhed og governancemodel for brug af Anaconda"
   ]
  },
  {
   "cell_type": "markdown",
   "metadata": {},
   "source": [
    "# Afslutning ag evaluering"
   ]
  }
 ],
 "metadata": {
  "kernelspec": {
   "display_name": "base",
   "language": "python",
   "name": "python3"
  },
  "language_info": {
   "codemirror_mode": {
    "name": "ipython",
    "version": 3
   },
   "file_extension": ".py",
   "mimetype": "text/x-python",
   "name": "python",
   "nbconvert_exporter": "python",
   "pygments_lexer": "ipython3",
   "version": "3.12.9"
  },
  "panel-cell-order": [
   "6fb7fea3"
  ]
 },
 "nbformat": 4,
 "nbformat_minor": 4
}
