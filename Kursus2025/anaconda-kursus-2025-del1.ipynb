{
 "cells": [
  {
   "cell_type": "markdown",
   "metadata": {},
   "source": [
    "# Anaconda-kursus NFA - Del 1\n",
    "\n",
    "## Program\n",
    "\n",
    "- Introduktion: Installation af anaconda\n",
    "- Eksempel på løsning af en case?\n",
    "- Arbejde med egen case og data\n",
    "- Sikkerhed og governance\n",
    "- Afslutning og evaluering\n"
   ]
  },
  {
   "cell_type": "markdown",
   "metadata": {},
   "source": [
    "# Installation\n",
    "\n",
    "- Hent Anaconda fra [Anaconda hjemmesiden](https://www.anaconda.com/download/success).\n",
    "- Download og installere \"Kun for denne bruger\".\n",
    "- Åbn jupyter notebook/spyder?\n",
    "\n"
   ]
  },
  {
   "cell_type": "markdown",
   "metadata": {},
   "source": [
    "# Basale ting \n",
    "\n",
    "- Hvordan eksekverer man kode?\n",
    "- Hvad er python? \n",
    "- Hvad er anaconda?\n",
    "- Hvad er pakker?\n",
    "- Hvad er syntax?\n",
    "- Hvad er en variabel og hvad kan den være? "
   ]
  },
  {
   "cell_type": "markdown",
   "metadata": {},
   "source": [
    "# Eksempel på Case\n",
    "\n",
    "Der kan hentes data fra [OpenDataDK](https://www.opendata.dk/)\n",
    "\n",
    "## VibeCoding\n",
    "\n",
    "Hvad kan jeg spørge fx ChatGPT om? *Make a script that reads a CSV-file*"
   ]
  },
  {
   "cell_type": "code",
   "execution_count": null,
   "metadata": {},
   "outputs": [],
   "source": [
    "import csv\n",
    "\n",
    "# Ask user for the path to the CSV file\n",
    "csv_file = input(\"Enter the path to the CSV file: \")\n",
    "\n",
    "try:\n",
    "    # Open the CSV file\n",
    "    with open(csv_file, 'r') as csvfile:\n",
    "        reader = csv.DictReader(csvfile)\n",
    "        \n",
    "        # Loop through each row in the CSV file\n",
    "        for row in reader:\n",
    "            # Print the values in each row\n",
    "            print(row)\n",
    "except FileNotFoundError:\n",
    "    print(f\"Error: File '{csv_file}' not found.\")"
   ]
  },
  {
   "cell_type": "markdown",
   "metadata": {},
   "source": [
    "*Explain the script line for line*\n",
    "\n",
    "Let's break down the script line by line:\n",
    "\n",
    "**Line 1:** `import csv`\n",
    "\n",
    "* This line imports the `csv` module, which provides functions and classes for reading and writing CSV (Comma Separated Values) files.\n",
    "\n",
    "**Line 2:** `csv_file = input(\"Enter the path to the CSV file: \")`\n",
    "\n",
    "* This line uses the built-in `input` function to prompt the user to enter the path to a CSV file.\n",
    "* The string `\"Enter the path to the CSV file: \"` is displayed as a message, and the user can type in their response.\n",
    "* The response is stored in a variable called `csv_file`.\n",
    "\n",
    "**Line 3:** `try:`\n",
    "\n",
    "* This line starts a `try` block, which is used to catch exceptions (errors) that might occur during the execution of the code.\n",
    "\n",
    "**Line 4:** `with open(csv_file, 'r') as csvfile:`\n",
    "\n",
    "* This line opens a file with the path specified by the user (`csv_file`) in read mode (`'r'`).\n",
    "* The `with` statement ensures that the file is properly closed when we're done with it, regardless of whether an exception occurs or not.\n",
    "* The file object is assigned to a variable called `csvfile`.\n",
    "\n",
    "**Line 5:** `reader = csv.DictReader(csvfile)`\n",
    "\n",
    "* This line creates a `DictReader` object from the opened CSV file (`csvfile`).\n",
    "* A `DictReader` object reads the CSV file and returns each row as a dictionary (a hash table or associative array), where each key-value pair corresponds to a column and its corresponding value.\n",
    "\n",
    "**Line 6:** `for row in reader:`\n",
    "\n",
    "* This line starts a `for` loop that iterates over each row in the CSV file, using the `reader` object.\n",
    "* For each row, we'll execute the code inside the loop body (i.e., print out the values).\n",
    "\n",
    "**Line 7:** `print(row)`\n",
    "\n",
    "* This line prints out the dictionary representing the current row.\n",
    "\n",
    "**Line 8:** `except FileNotFoundError:`\n",
    "\n",
    "* This line catches a specific type of exception: `FileNotFoundError`. This occurs when the file specified by the user does not exist.\n",
    "* The code inside this block is executed if an exception is caught. In this case, we display an error message indicating that the file was not found.\n",
    "\n",
    "**Line 9:** `print(f\"Error: File '{csv_file}' not found.\")`\n",
    "\n",
    "* This line prints out an error message using an f-string (a new-style string formatting method). The error message includes the filename (`csv_file`) and a brief description of the issue.\n",
    "\n",
    "That's it!\n",
    "\n",
    "\n",
    "^^^^^^^\n",
    "\n",
    "Oplagt eksempel på at chatgpt giver noget kode som ofte er unødigt kompliceret. Det man jo i virkeligheden gerne ville have haft er vel: \n",
    "\n",
    "`import pandas as pd`\n",
    "\n",
    "`df = pd.read_csv(file_path)`\n"
   ]
  }
 ],
 "metadata": {
  "kernelspec": {
   "display_name": "base",
   "language": "python",
   "name": "python3"
  },
  "language_info": {
   "codemirror_mode": {
    "name": "ipython",
    "version": 3
   },
   "file_extension": ".py",
   "mimetype": "text/x-python",
   "name": "python",
   "nbconvert_exporter": "python",
   "pygments_lexer": "ipython3",
   "version": "3.12.9"
  },
  "panel-cell-order": [
   "6fb7fea3"
  ]
 },
 "nbformat": 4,
 "nbformat_minor": 4
}
